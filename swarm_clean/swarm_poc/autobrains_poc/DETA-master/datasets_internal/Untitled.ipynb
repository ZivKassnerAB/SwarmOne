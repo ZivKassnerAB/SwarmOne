{
 "cells": [
  {
   "cell_type": "code",
   "execution_count": 2,
   "id": "ace1cc98-2ca2-4f53-b45b-bed2b51ebc6b",
   "metadata": {
    "tags": []
   },
   "outputs": [
    {
     "data": {
      "text/plain": [
       "[]"
      ]
     },
     "execution_count": 2,
     "metadata": {},
     "output_type": "execute_result"
    }
   ],
   "source": [
    "import sys\n",
    "package = [v for k, v in sys.modules.items() if \"datasets_internal\" in k]\n",
    "package"
   ]
  },
  {
   "cell_type": "code",
   "execution_count": null,
   "id": "b0e85e0a-af63-40cf-85fb-8f19d3cdf997",
   "metadata": {},
   "outputs": [],
   "source": []
  }
 ],
 "metadata": {
  "kernelspec": {
   "display_name": "Python 3 (ipykernel)",
   "language": "python",
   "name": "python3"
  },
  "language_info": {
   "codemirror_mode": {
    "name": "ipython",
    "version": 3
   },
   "file_extension": ".py",
   "mimetype": "text/x-python",
   "name": "python",
   "nbconvert_exporter": "python",
   "pygments_lexer": "ipython3",
   "version": "3.10.9"
  }
 },
 "nbformat": 4,
 "nbformat_minor": 5
}
