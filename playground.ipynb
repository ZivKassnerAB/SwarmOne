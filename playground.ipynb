{
 "cells": [
  {
   "cell_type": "code",
   "execution_count": null,
   "metadata": {},
   "outputs": [],
   "source": [
    "import shutil\n",
    "import os\n",
    "import glob\n",
    "from pycocotools.coco import COCO\n",
    "import json"
   ]
  },
  {
   "cell_type": "code",
   "execution_count": null,
   "metadata": {},
   "outputs": [],
   "source": [
    "train_path = '/home/user/workspace/swarmone/swarm_poc/data/train_subset.json'\n",
    "val_path = '/home/user/workspace/swarmone/swarm_poc/data/val_subset.json'"
   ]
  },
  {
   "cell_type": "code",
   "execution_count": null,
   "metadata": {},
   "outputs": [],
   "source": [
    "train_images_dir = '/home/user/workspace/swarmone/swarm_poc/data/train_subset/'\n",
    "val_images_dir = '/home/user/workspace/swarmone/swarm_poc/data/val_subset/'"
   ]
  },
  {
   "cell_type": "code",
   "execution_count": 91,
   "metadata": {},
   "outputs": [
    {
     "data": {
      "text/plain": [
       "100"
      ]
     },
     "execution_count": 91,
     "metadata": {},
     "output_type": "execute_result"
    }
   ],
   "source": [
    "len(image_names)"
   ]
  },
  {
   "cell_type": "code",
   "execution_count": null,
   "metadata": {},
   "outputs": [],
   "source": [
    "COCO = COCO(val_path)\n",
    "cat_ids = COCO.getCatIds()\n",
    "image_ids = COCO.getImgIds()\n",
    "image_names = [COCO.loadImgs(image_id)[0]['file_name'] for image_id in image_ids]\n",
    "image_names"
   ]
  },
  {
   "cell_type": "code",
   "execution_count": null,
   "metadata": {},
   "outputs": [],
   "source": [
    "image_details = [COCO.loadImgs(image_id)[0] for image_id in image_ids]\n",
    "for image_detail in image_details:\n",
    "    # Updating the file_name to include the images_dir path\n",
    "    image_detail['file_name'] = f'{val_images_dir}{os.path.basename(image_detail[\"file_name\"])}'\n"
   ]
  },
  {
   "cell_type": "code",
   "execution_count": null,
   "metadata": {},
   "outputs": [],
   "source": [
    "with open(val_path, 'r') as file:\n",
    "    coco_dataset = json.load(file)\n",
    "\n",
    "for image in coco_dataset['images']:\n",
    "    image['file_name'] = f'{val_images_dir}{os.path.basename(image[\"file_name\"])}'\n",
    "    \n",
    "\n",
    "with open(f\"{val_path.replace('.json', '_.json')}\", 'w') as file:\n",
    "    json.dump(coco_dataset, file, indent=4)"
   ]
  },
  {
   "cell_type": "code",
   "execution_count": null,
   "metadata": {},
   "outputs": [],
   "source": [
    "from pycocotools.coco import COCO\n"
   ]
  },
  {
   "cell_type": "code",
   "execution_count": null,
   "metadata": {},
   "outputs": [],
   "source": [
    "COCO = COCO(f\"{val_path.replace('.json', '_.json')}\")\n",
    "cat_ids = COCO.getCatIds()\n",
    "image_ids = COCO.getImgIds()\n",
    "image_names = [COCO.loadImgs(image_id)[0]['file_name'] for image_id in image_ids]\n",
    "image_names"
   ]
  },
  {
   "cell_type": "code",
   "execution_count": null,
   "metadata": {},
   "outputs": [],
   "source": []
  }
 ],
 "metadata": {
  "kernelspec": {
   "display_name": "swarm",
   "language": "python",
   "name": "python3"
  },
  "language_info": {
   "codemirror_mode": {
    "name": "ipython",
    "version": 3
   },
   "file_extension": ".py",
   "mimetype": "text/x-python",
   "name": "python",
   "nbconvert_exporter": "python",
   "pygments_lexer": "ipython3",
   "version": "3.10.13"
  }
 },
 "nbformat": 4,
 "nbformat_minor": 2
}
